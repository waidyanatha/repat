{
 "cells": [
  {
   "cell_type": "code",
   "execution_count": 1,
   "metadata": {
    "collapsed": true
   },
   "outputs": [
    {
     "name": "stdout",
     "output_type": "stream",
     "text": [
      "Populating the interactive namespace from numpy and matplotlib\n"
     ]
    },
    {
     "name": "stdout",
     "output_type": "stream",
     "text": [
      "Index(['TweetId', 'Date', 'Verified', 'Tweet URL', 'Tweet Hyperlink', 'Tweet',\n       'HashTag', 'Screen Name', 'User Name', 'Media URL', 'Media Type',\n       'Mentioned URL', 'Latitude', 'Longitude', 'User Create Date',\n       'Number of Followers', 'Retweet'],\n      dtype='object')\n"
     ]
    }
   ],
   "source": [
    "# Import libraries\n",
    "import pandas as pd\n",
    "import nltk\n",
    "import re\n",
    "import string\n",
    "from nltk import FreqDist\n",
    "%pylab inline\n",
    "\n",
    "# Import csv as pandas object\n",
    "data_df = pd.read_csv('nepal.csv',encoding=\"ISO-8859-1\")\n",
    "\n",
    "# Print column headers\n",
    "print(data_df.columns)"
   ]
  },
  {
   "cell_type": "code",
   "execution_count": 2,
   "metadata": {},
   "outputs": [],
   "source": [
    "## In this cell, all the tweets are cleaned up for processing\n",
    "\n",
    "# Define a function to remove all symbol characters and replace with a space \n",
    "def remove_symbol(str):\n",
    "    for char in string.punctuation:\n",
    "        str=str.replace(char,' ')\n",
    "    return str\n",
    "\n",
    "# Define a function to remove all symbol characters without replacement\n",
    "def remove_symbol_nospace(str):\n",
    "    for char in string.punctuation:\n",
    "        str=str.replace(char,'')\n",
    "    return str\n",
    "\n",
    "# Store all the tweet data as a list object\n",
    "dictpd=data_df.Tweet\n",
    "dictlist=[tweet for tweet in dictpd]\n",
    "\n",
    "# Initialize a variable to store the cleaned tweets\n",
    "cleaned_dict=[] \n",
    "\n",
    "# Run a loop to clean the tweet to make it suitable for running analysis\n",
    "for line in dictlist:\n",
    "    line=line.lower() #lower case\n",
    "    line=remove_symbol(line) #remove symbols and replace by space\n",
    "    cleaned_dict.append(line) #add to initialized variable"
   ]
  },
  {
   "cell_type": "code",
   "execution_count": 3,
   "metadata": {},
   "outputs": [
    {
     "name": "stdout",
     "output_type": "stream",
     "text": [
      "The total number of alphabet-only tokens in all tweets: 3360432\nThe total number of unique alphabet only tokens in all tweets: 122451\nThe number of tweets analyzed: 212744\n"
     ]
    }
   ],
   "source": [
    "## From all the tweet data, create a dictionary of tokens with alphabetic content only\n",
    "\n",
    "#Initialize\n",
    "tweettokens=[] #dictionary of all alphabetical tokens in the tweets\n",
    "nestedtweet=[] #list of alphabetical tokens in a tweet-> list of tweets -> nestedtweet\n",
    "\n",
    "#Loop which 1) splits tweets into tokens 2)checks for alphabetic only content 3)inserts into lists\n",
    "for line in cleaned_dict:\n",
    "    linelist=line.split(' ') #Split tweet into words\n",
    "    templine=[] \n",
    "    for word in linelist:\n",
    "        if word.isalpha(): #Add only alphabetical tokens to dictionary\n",
    "            tweettokens.append(word) #append token to global dict\n",
    "            templine.append(word) #append token to a list\n",
    "    nestedtweet.append(templine) #append list of tokens in a tweet to a list \n",
    "    \n",
    "\n",
    "#Create a set of all tokens which merges duplicates\n",
    "tweettokendict=set(tweettokens)\n",
    "\n",
    "#The number of all alphabetical tokens in all the tweets\n",
    "print(\"The total number of alphabet-only tokens in all tweets:\",len(tweettokens))\n",
    "#The number of all unique alphabetical tokens in all the tweets\n",
    "print(\"The total number of unique alphabet only tokens in all tweets:\",len(tweettokendict))\n",
    "\n",
    "print(\"The number of tweets analyzed:\",len(nestedtweet))"
   ]
  },
  {
   "cell_type": "code",
   "execution_count": 4,
   "metadata": {},
   "outputs": [
    {
     "name": "stdout",
     "output_type": "stream",
     "text": [
      "14 adminstrative zone level names, 74 district level names and 3512 city/town level names were extracted from the location file \n"
     ]
    }
   ],
   "source": [
    "## Create a dictionary of location based tokens from NP_L4.csv\n",
    "places_pd=pd.read_csv('NP_L4.csv')\n",
    "places_pd.L2=places_pd.L2.str.lower() #L2 refers to administrative zone level location \n",
    "places_pd.L3=places_pd.L3.str.lower() #L3 refers to district level location\n",
    "\n",
    "L2tokens=set(places_pd.L2) # dict of all L2 tokens\n",
    "L3tokens=set(places_pd.L3) # dict of all L3 tokens\n",
    "L3tokens.remove('kathmandu') # kathmandu gives too many false positives\n",
    "\n",
    "# L4 items are cities/towns and the data has some formatting issues to be dealt with in this loop\n",
    "for i in range(len(places_pd.L4)):\n",
    "    item=places_pd.L4[i]\n",
    "    item=remove_symbol_nospace(item)\n",
    "    splititems=re.findall('[A-Z][^A-Z]*',item) #Create items seperated by capital letters: AbraKadabra - > [Abra] [Kadabra]\n",
    "    item=' '.join(word for word in splititems if len(word)>2) # join them back if individual items are long enough\n",
    "    places_pd.L4[i]=item.lower() #lower case\n",
    "    \n",
    "L4tokens=set(places_pd.L4) #list of L4 tokens\n",
    "L4tokens=set(places for places in L4tokens if len(places)>4) #removal of short words from the set\n",
    "L4tokens.remove('kathmandu') #removed kathmandu\n",
    "L4tokens.remove('media') #removed media\n",
    "\n",
    "print(len(L2tokens),\"adminstrative zone level names,\",len(L3tokens),\"district level names and\",len(L4tokens),\n",
    "      \"city/town level names were extracted from the location file \")"
   ]
  },
  {
   "cell_type": "code",
   "execution_count": 5,
   "metadata": {},
   "outputs": [
    {
     "name": "stdout",
     "output_type": "stream",
     "text": [
      "340 unique town/city tokens were identified in the tweets\n"
     ]
    }
   ],
   "source": [
    "## Find out how many L4tokens exist in the tweets \n",
    "\n",
    "places_common=sorted(L4tokens.intersection(tweettokendict)) #taken an intersection of tweet dict with L4 dict\n",
    "\n",
    "print(len(places_common),\"unique town/city tokens were identified in the tweets\")"
   ]
  },
  {
   "cell_type": "code",
   "execution_count": 6,
   "metadata": {},
   "outputs": [
    {
     "name": "stdout",
     "output_type": "stream",
     "text": [
      "30384 tweets had location related content\n"
     ]
    }
   ],
   "source": [
    "## Identify tweets with location based content\n",
    "\n",
    "# Initialize\n",
    "L2flag=[] #boolean for presence of a L2 token in a tweet\n",
    "L3flag=[] \n",
    "L4flag=[]\n",
    "\n",
    "placecounter=[] # aggregrate any L2,L3,L4 tokens present in this variable\n",
    "\n",
    "# initialize\n",
    "L3list=[None]*len(nestedtweet) # variable for storing the L3 token identified\n",
    "L4list=[None]*len(nestedtweet) # variable for storing the L4 token identified\n",
    "\n",
    "i=0\n",
    "# loop to iterate through the tweets and identify location based tokens\n",
    "for tweet in nestedtweet:\n",
    "    L2boolean=len(set(tweet).intersection(L2tokens))!=0 # only found <200 tweetws\n",
    "    L3boolean=len(set(tweet).intersection(L3tokens))!=0\n",
    "    L4boolean=len(set(tweet).intersection(L4tokens))!=0\n",
    "    if L3boolean: \n",
    "        place_=set(tweet).intersection(L3tokens)\n",
    "        L3list[i]=place_\n",
    "        for item in place_:\n",
    "            placecounter.append(item)\n",
    "    L3flag.append(L3boolean)\n",
    "    if L4boolean: \n",
    "        place_=set(tweet).intersection(L4tokens)\n",
    "        L4list[i]=place_\n",
    "        for item in place_:\n",
    "            placecounter.append(item)\n",
    "    L4flag.append(L4boolean)\n",
    "    i=i+1\n",
    "\n",
    "Lallflag=[x or y for x,y in zip(L3flag,L4flag)] #boolean for presence of L3 or L4 token\n",
    "print(sum(Lallflag),\"tweets had location related content\")"
   ]
  },
  {
   "cell_type": "code",
   "execution_count": 7,
   "metadata": {},
   "outputs": [
    {
     "name": "stdout",
     "output_type": "stream",
     "text": [
      "List of 20 most common location-related tokens and their frequency:\n"
     ]
    },
    {
     "data": {
      "text/plain": [
       "[('bhaktapur', 14942),\n ('gorkha', 7546),\n ('basantapur', 3289),\n ('lamjung', 2022),\n ('lalitpur', 1956),\n ('nuwakot', 1648),\n ('those', 1222),\n ('patan', 1163),\n ('pokhara', 974),\n ('khudi', 861),\n ('orang', 777),\n ('sankhu', 768),\n ('bharatpur', 647),\n ('kirtipur', 573),\n ('dhading', 473),\n ('kumari', 251),\n ('change', 211),\n ('rasuwa', 203),\n ('langtang', 178),\n ('hetauda', 176)]"
      ]
     },
     "execution_count": 7,
     "metadata": {},
     "output_type": "execute_result"
    }
   ],
   "source": [
    "placedistr=FreqDist(placecounter)\n",
    "print(\"List of 20 most common location-related tokens and their frequency:\")\n",
    "placedistr.most_common(20)"
   ]
  },
  {
   "cell_type": "code",
   "execution_count": 8,
   "metadata": {},
   "outputs": [],
   "source": [
    "## Extract location based information from lat, long data\n",
    "\n",
    "from shapely.geometry import Polygon\n",
    "from shapely.geometry import Point\n",
    "\n",
    "polyobject=[None]*len(places_pd) # initialize a variable for storing coordinate data as a shapely polygon object\n",
    "\n",
    "#Construct a list of polygons from existing Lat Long data\n",
    "for i in range(len(places_pd)):\n",
    "    str=places_pd.WKT[i]\n",
    "    m = str.split('((', 1)[1].split('))')[0]\n",
    "    m = m.split(',')\n",
    "    m = [list(map(float,item.split(' '))) for item in m]\n",
    "    polyobject[i]=Polygon(m) #define the list of points as a polygon\n",
    "\n",
    "# define a function to search the lat,long data through the polyobject and return the index \n",
    "def pointinNepal(xy_point):\n",
    "    index=[]\n",
    "    for k in range(len(polyobject)):\n",
    "        if polyobject[k].contains(xy_point): #is the point inside the polygon?\n",
    "            index.append(k)\n",
    "    return index\n",
    "\n",
    "\n",
    "kathmandu=Point(85.324,27.7172) #long, lat for nepal\n",
    "\n",
    "posindex=[None]*len(data_df) #initalize a variable that will store the index of the location\n",
    "L3GPS=[None]*len(data_df)\n",
    "L4GPS=[None]*len(data_df)\n",
    "\n",
    "#iterate through the lat long points in the tweet data  \n",
    "for i in range(len(data_df)):\n",
    "    if data_df.Latitude.notnull()[i]: #does tweet has lat,long data?\n",
    "        lat=data_df.Latitude[i]\n",
    "        long=data_df.Longitude[i]\n",
    "        xy_point=Point(long,lat) \n",
    "        \n",
    "        if xy_point.distance(kathmandu)<9: #search only those coordinates close enough to Nepal\n",
    "            posindex[i]=pointinNepal(xy_point)\n",
    "            temp=posindex[i]\n",
    "            if temp: #if they found a match in the location database\n",
    "                L3GPS[i]=places_pd.L3[temp[0]]\n",
    "                L4GPS[i]=places_pd.L4[temp[0]]"
   ]
  },
  {
   "cell_type": "code",
   "execution_count": 9,
   "metadata": {},
   "outputs": [
    {
     "name": "stdout",
     "output_type": "stream",
     "text": [
      "Total number of tweets identified to be from Nepal: 994\nTweets could be traced out to 140 unique L4 tokens\n\nList of 10 most commonly identified L4 tokens from LatLong data and their frequency:\n"
     ]
    },
    {
     "data": {
      "image/png": "[encoded data removed]",
      "text/plain": [
       "<matplotlib.figure.Figure at 0x24b0ba58>"
      ]
     },
     "metadata": {},
     "output_type": "display_data"
    },
    {
     "name": "stdout",
     "output_type": "stream",
     "text": [
      "List of 10 most commonly identified L3 tokens from LatLong data and their frequency:\n"
     ]
    },
    {
     "data": {
      "image/png": "[encoded data removed]",
      "text/plain": [
       "<matplotlib.figure.Figure at 0x24b0ba20>"
      ]
     },
     "metadata": {},
     "output_type": "display_data"
    },
    {
     "name": "stdout",
     "output_type": "stream",
     "text": [
      "Tweets could be traced out to 34 out of 74 possible L3 tokens\n"
     ]
    }
   ],
   "source": [
    "#generate list for which lat long data belonged to Nepal\n",
    "in_nepal=[i for i, x in enumerate(posindex) if x]\n",
    "\n",
    "print(\"Total number of tweets identified to be from Nepal:\",len(in_nepal))\n",
    "\n",
    "#initialize\n",
    "L4_GPS_freq=[]\n",
    "L3_GPS_freq=[]\n",
    "\n",
    "#fill up L3 and L4 tokens using index\n",
    "for i in in_nepal:\n",
    "    L4_GPS_freq.append(places_pd.L4[posindex[i][0]])\n",
    "    L3_GPS_freq.append(places_pd.L3[posindex[i][0]])\n",
    "\n",
    "L4_GPS_freqdist=FreqDist(L4_GPS_freq)\n",
    "L3_GPS_freqdist=FreqDist(L3_GPS_freq)\n",
    "\n",
    "print(\"Tweets could be traced out to\",len(set(L4GPS)),\"unique L4 tokens\")\n",
    "print(\"\"\"\n",
    "List of 10 most commonly identified L4 tokens from LatLong data and their frequency:\"\"\")\n",
    "L4_GPS_freqdist.plot(10)\n",
    "\n",
    "print(\"List of 10 most commonly identified L3 tokens from LatLong data and their frequency:\")\n",
    "L3_GPS_freqdist.plot(10)\n",
    "print(\"Tweets could be traced out to\",len(set(L3GPS)),\"out of\",len(L3tokens),\"possible L3 tokens\")"
   ]
  },
  {
   "cell_type": "code",
   "execution_count": 10,
   "metadata": {},
   "outputs": [],
   "source": [
    "#Add analyzed data to the original data and save to a csv file\n",
    "\n",
    "data_df[\"L3 token from Tweet\"]=L3list\n",
    "data_df[\"L4 token from Tweet\"]=L4list\n",
    "data_df[\"L3 token from LatLong\"]=L3GPS\n",
    "data_df[\"L4 token from LatLong\"]=L4GPS\n",
    "data_df.to_csv('nepal_tweets_loc.csv')"
   ]
  }
 ],
 "metadata": {
  "kernelspec": {
   "display_name": "Python 2",
   "language": "python",
   "name": "python2"
  },
  "language_info": {
   "codemirror_mode": {
    "name": "ipython",
    "version": 2.0
   },
   "file_extension": ".py",
   "mimetype": "text/x-python",
   "name": "python",
   "nbconvert_exporter": "python",
   "pygments_lexer": "ipython2",
   "version": "2.7.6"
  }
 },
 "nbformat": 4,
 "nbformat_minor": 0
}