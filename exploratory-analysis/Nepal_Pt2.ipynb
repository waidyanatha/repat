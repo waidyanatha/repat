{
 "cells": [
  {
   "cell_type": "code",
   "execution_count": 1,
   "metadata": {
    "collapsed": true
   },
   "outputs": [],
   "source": [
    "#Import the previously downloaded tweet database as a Pandas object\n",
    "import pandas as pd\n",
    "df=pd.read_csv('newtweets_Nepal11Apr-9thMay_complete.txt',encoding='utf-16',sep='\\t')"
   ]
  },
  {
   "cell_type": "code",
   "execution_count": 2,
   "metadata": {
    "collapsed": true
   },
   "outputs": [],
   "source": [
    "#Find how many user moved from one location to another over time\n",
    "from collections import Counter\n",
    "\n",
    "userlocarray=[]\n",
    "for user in set(df.Username):\n",
    "    userL3=df[df.Username==user].L3 #Get subset of the dataframe for this user and the L3 column\n",
    "    userL4=df[df.Username==user].L4\n",
    "    L3counts=Counter(userL3)\n",
    "    L4counts=Counter(userL4)\n",
    "    \n",
    "    L3common=L3counts.most_common(1)[0][0] #access the most common L3 name\n",
    "    L3num=L3counts.most_common(1)[0][1] #access the most common L3 count\n",
    "    L4common=L4counts.most_common(1)[0][0]\n",
    "    L4num=L4counts.most_common(1)[0][1]   \n",
    "    L3ratio=L3num/len(userL3) #freq of most common item over all items\n",
    "    L4ratio=L4num/len(userL4)\n",
    "    userlocarray.append([user,L3common,L3ratio,L4common,L4ratio])"
   ]
  },
  {
   "cell_type": "code",
   "execution_count": 3,
   "metadata": {
    "collapsed": false
   },
   "outputs": [
    {
     "name": "stdout",
     "output_type": "stream",
     "text": [
      "Populating the interactive namespace from numpy and matplotlib\n"
     ]
    },
    {
     "data": {
      "image/png": "[encoded data removed]",
      "text/plain": [
       "<matplotlib.figure.Figure at 0x9304b70>"
      ]
     },
     "metadata": {},
     "output_type": "display_data"
    }
   ],
   "source": [
    "#Plot how many users stayed within their L3 zones\n",
    "countme=[w[2] for w in userlocarray]\n",
    "import matplotlib.pyplot as plt\n",
    "%pylab inline\n",
    "plt.ylabel('Count')\n",
    "plt.xlabel('L3 Positional Purity')\n",
    "plt.hist(countme)\n",
    "plt.show()\n",
    "\n",
    "\n",
    "#Positional purity is defined as the number of times a user is at the most frequent L3 location \n",
    "# divided by the total number of instances his location is recorded in the tweets"
   ]
  },
  {
   "cell_type": "code",
   "execution_count": 4,
   "metadata": {
    "collapsed": true
   },
   "outputs": [],
   "source": [
    "UserArray_set=set(df.Username)"
   ]
  },
  {
   "cell_type": "code",
   "execution_count": 5,
   "metadata": {
    "collapsed": false
   },
   "outputs": [],
   "source": [
    "#Download additional tweets from all the users captured in the initial database which did not have their location on and hence were not caputed\n",
    "import sys\n",
    "import pyquery\n",
    "import got3\n",
    "\n",
    "\n",
    "cols=['TweetId','permalink','Username','Text','Date','Retweets','Favorites','Mentions','Hashtags','Geo']\n",
    "df_user = pd.DataFrame(columns=cols)\n",
    "\n",
    "UserArray=[item for item in UserArray_set]\n",
    "\n",
    "for user in UserArray:\n",
    "    tweetCriteria = got3.manager.TweetCriteria().setUsername(user).setSince(\"2015-04-11\").setUntil(\"2015-05-09\") #download tweets from every user in the same timeframe\n",
    "    T_id=[(i.id,i.permalink,i.username,i.text,i.date,i.retweets,i.favorites,i.mentions,i.hashtags,i.geo) for i in got3.manager.TweetManager.getTweets(tweetCriteria)]#save that in a array\n",
    "    #Add to a Pandas database\n",
    "    usertemp = pd.DataFrame(T_id,columns=cols)\n",
    "    frames = [df_user,usertemp]\n",
    "    df_user= pd.concat(frames)\n",
    "    \n",
    "#save the database into a text file\n",
    "df_user.to_csv('username_tweethistory.txt',encoding='utf-8')"
   ]
  }
 ],
 "metadata": {
  "kernelspec": {
   "display_name": "Python 3",
   "language": "python",
   "name": "python3"
  },
  "language_info": {
   "codemirror_mode": {
    "name": "ipython",
    "version": 3
   },
   "file_extension": ".py",
   "mimetype": "text/x-python",
   "name": "python",
   "nbconvert_exporter": "python",
   "pygments_lexer": "ipython3",
   "version": "3.5.1"
  }
 },
 "nbformat": 4,
 "nbformat_minor": 0
}
